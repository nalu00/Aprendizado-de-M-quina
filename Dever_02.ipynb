{
  "nbformat": 4,
  "nbformat_minor": 0,
  "metadata": {
    "colab": {
      "provenance": [],
      "authorship_tag": "ABX9TyM3mHSPRVYAtw6dzhv3A9Rp",
      "include_colab_link": true
    },
    "kernelspec": {
      "name": "python3",
      "display_name": "Python 3"
    },
    "language_info": {
      "name": "python"
    }
  },
  "cells": [
    {
      "cell_type": "markdown",
      "metadata": {
        "id": "view-in-github",
        "colab_type": "text"
      },
      "source": [
        "<a href=\"https://colab.research.google.com/github/nalu00/Aprendizado-de-M-quina/blob/main/Dever_02.ipynb\" target=\"_parent\"><img src=\"https://colab.research.google.com/assets/colab-badge.svg\" alt=\"Open In Colab\"/></a>"
      ]
    },
    {
      "cell_type": "code",
      "execution_count": null,
      "metadata": {
        "id": "6n1mlGbdQ-np"
      },
      "outputs": [],
      "source": []
    },
    {
      "cell_type": "code",
      "source": [
        "def obter_frase():\n",
        "    \"\"\"Solicita uma frase ao usuário e verifica se não está vazia.\"\"\"\n",
        "    while True:\n",
        "        frase = input(\"Digite uma frase: \").strip() # o strip remove espaços no início e no fim\n",
        "        if frase:\n",
        "            return frase\n",
        "        else:\n",
        "            print(\"A frase não pode estar vazia. Tente novamente.\")\n",
        "\n",
        "def analisar_frase(frase):\n",
        "    \"\"\"Realiza a análise da frase: contagem de caracteres, palavras e maior palavra.\"\"\"\n",
        "    num_caracteres = len(frase)\n",
        "    palavras = frase.split()\n",
        "    num_palavras = len(palavras)\n",
        "    maior_palavra = max(palavras, key=len) if palavras else \"\" # verifica se há palavras antes de procurar a maior\n",
        "\n",
        "    return num_caracteres, num_palavras, maior_palavra\n",
        "\n",
        "def formatar_frase(frase):\n",
        "    \"\"\"Realiza a formatação da frase: inversão, alteração de caixa e tupla de palavras.\"\"\"\n",
        "    frase_invertida_caracteres = frase[::-1]\n",
        "    frase_invertida_palavras = \" \".join(frase.split()[::-1])\n",
        "    frase_maiuscula = frase.upper()\n",
        "    frase_minuscula = frase.lower()\n",
        "    tupla_palavras = tuple(frase.split())\n",
        "\n",
        "    return frase_invertida_caracteres, frase_invertida_palavras, frase_maiuscula, frase_minuscula, tupla_palavras\n",
        "\n",
        "def exibir_resultados(num_caracteres, num_palavras, maior_palavra, frase_invertida_caracteres, frase_invertida_palavras, frase_maiuscula, frase_minuscula, tupla_palavras):\n",
        "    \"\"\"Exibe os resultados da análise e formatação.\"\"\"\n",
        "    print(f\"Número de caracteres: {num_caracteres}\")\n",
        "    print(f\"Número de palavras: {num_palavras}\")\n",
        "    print(f\"Maior palavra: {maior_palavra}\")\n",
        "    print(f\"Frase invertida (caracteres): {frase_invertida_caracteres}\")\n",
        "    print(f\"Frase invertida (palavras): {frase_invertida_palavras}\")\n",
        "    print(f\"Frase em maiúsculas: {frase_maiuscula}\")\n",
        "    print(f\"Frase em minúsculas: {frase_minuscula}\")\n",
        "    print(f\"Tupla de palavras: {tupla_palavras}\")\n",
        "\n",
        "# Bloco principal do programa\n",
        "frase = obter_frase()\n",
        "num_caracteres, num_palavras, maior_palavra = analisar_frase(frase)\n",
        "frase_invertida_caracteres, frase_invertida_palavras, frase_maiuscula, frase_minuscula, tupla_palavras = formatar_frase(frase)\n",
        "exibir_resultados(num_caracteres, num_palavras, maior_palavra, frase_invertida_caracteres, frase_invertida_palavras, frase_maiuscula, frase_minuscula, tupla_palavras)"
      ],
      "metadata": {
        "colab": {
          "base_uri": "https://localhost:8080/"
        },
        "id": "X0oU3DqLRFsD",
        "outputId": "4d0529d8-d1bd-44bf-a848-b131855ec2b5"
      },
      "execution_count": 5,
      "outputs": [
        {
          "output_type": "stream",
          "name": "stdout",
          "text": [
            "Digite uma frase: \n",
            "A frase não pode estar vazia. Tente novamente.\n",
            "Digite uma frase: me chamo Ana Luisa\n",
            "Número de caracteres: 18\n",
            "Número de palavras: 4\n",
            "Maior palavra: chamo\n",
            "Frase invertida (caracteres): asiuL anA omahc em\n",
            "Frase invertida (palavras): Luisa Ana chamo me\n",
            "Frase em maiúsculas: ME CHAMO ANA LUISA\n",
            "Frase em minúsculas: me chamo ana luisa\n",
            "Tupla de palavras: ('me', 'chamo', 'Ana', 'Luisa')\n"
          ]
        }
      ]
    }
  ]
}